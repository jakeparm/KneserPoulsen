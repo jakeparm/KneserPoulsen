{
 "cells": [
  {
   "cell_type": "code",
   "execution_count": 1,
   "metadata": {},
   "outputs": [],
   "source": [
    "import numpy as np\n",
    "import pandas as pd\n",
    "from scipy.stats import rv_continuous\n",
    "from scipy.special import gamma, comb, beta\n",
    "from itertools import product\n",
    "import time\n",
    "import matplotlib.pyplot as plt"
   ]
  },
  {
   "cell_type": "code",
   "execution_count": 2,
   "metadata": {},
   "outputs": [],
   "source": [
    "# Inverse CDF for e^-|t|\n",
    "def inv_cdf(x):\n",
    "    if x >= 1/2:\n",
    "        return -np.log(1-2*(x-1/2))\n",
    "    else:\n",
    "        return np.log(2*x)\n",
    "\n",
    "# Generate g vector\n",
    "def gen_g(n):\n",
    "    g = []\n",
    "    u = np.random.uniform(0,1,n)\n",
    "    for u_i in u:\n",
    "        g_i = inv_cdf(u_i)\n",
    "        g.append(g_i)\n",
    "    return g\n",
    "\n",
    "# Generate Z\n",
    "def gen_Z():\n",
    "    return np.random.exponential(1, 1)\n",
    "\n",
    "# Generate random point in the diamond\n",
    "def gen_point_in_diamond(n):\n",
    "    g = np.array(gen_g(n))\n",
    "    z = gen_Z()[0]\n",
    "    x = []\n",
    "    for g_i in g:\n",
    "        x_i = g_i / (np.sum(abs(g)) + z)\n",
    "        x.append(x_i)\n",
    "\n",
    "    # Normalize volume\n",
    "    x = np.array(x) * (gamma(1+n))**(1/n)/2\n",
    "\n",
    "    return x\n",
    "\n",
    "# Generate random point in the cube\n",
    "def gen_point_in_cube(dimension, bounds=[-1/2, 1/2]):\n",
    "    x = []\n",
    "    for i in range(dimension):\n",
    "        x_i = np.random.uniform(bounds[0], bounds[1])\n",
    "        x.append(x_i)\n",
    "    return np.array(x)"
   ]
  },
  {
   "cell_type": "code",
   "execution_count": 3,
   "metadata": {},
   "outputs": [],
   "source": [
    "def get_pairwise_distances(points):\n",
    "    m = len(points)\n",
    "    pairwise_distances = np.zeros(shape=(m, m))\n",
    "    upper_tri_indices = np.triu_indices(m, k=1)\n",
    "\n",
    "    for i, j in zip(upper_tri_indices[0], upper_tri_indices[1]):\n",
    "        pairwise_distances[i,j] = np.linalg.norm(points[i] - points[j])\n",
    "        \n",
    "    return pairwise_distances"
   ]
  },
  {
   "cell_type": "code",
   "execution_count": 4,
   "metadata": {},
   "outputs": [],
   "source": [
    "def check_for_contraction(pairwise_distances1, pairwise_distances2):\n",
    "    upper_triangular = np.triu(np.ones_like(pairwise_distances1, dtype=bool),k=1)\n",
    "    contraction = np.where(upper_triangular, pairwise_distances1 >= pairwise_distances2, True)\n",
    "    if contraction.all():\n",
    "        return True\n",
    "    else:\n",
    "        return False"
   ]
  },
  {
   "cell_type": "code",
   "execution_count": 5,
   "metadata": {},
   "outputs": [],
   "source": [
    "def create_grid(min_val, max_val, n0, n):\n",
    "    num_step = int(np.ceil(n0**(1/n)))\n",
    "    steps = np.linspace(min_val, max_val, num_step)\n",
    "    permutation = list(product(steps, repeat=n))\n",
    "    grid = np.array(permutation)\n",
    "    return grid"
   ]
  },
  {
   "cell_type": "code",
   "execution_count": null,
   "metadata": {},
   "outputs": [],
   "source": [
    "def estimate_volume_of_intersection_grid(centers, n, r, n0=100000):\n",
    "    n0 = 20**n\n",
    "    all_points = np.concatenate(centers)\n",
    "    all_points = np.abs(all_points)\n",
    "    extreme_point = np.max(np.ceil(all_points))\n",
    "    bounds = np.array([-(extreme_point+r), extreme_point+r])\n",
    "\n",
    "    \n",
    "    grid = create_grid(bounds[0], bounds[1], n0, n)\n",
    "    \n",
    "    intersection = sum(all(np.linalg.norm(sample - center) <= r for center in centers) for sample in grid)\n",
    "    volume_box = (bounds[1] - bounds[0])**n\n",
    "    volume = (intersection / n0) * volume_box\n",
    "    \n",
    "    return volume"
   ]
  },
  {
   "cell_type": "code",
   "execution_count": null,
   "metadata": {},
   "outputs": [],
   "source": [
    "def find_contraction(p, n, r, N):\n",
    "    # Time how long it takes\n",
    "    start = time.time()\n",
    "\n",
    "    # Generate random points\n",
    "    points_in_cube = []\n",
    "    points_in_diamond = []\n",
    "    for i in range(N):\n",
    "        point_i = gen_point_in_cube(n)\n",
    "        points_in_cube.append(point_i)\n",
    "        point_j = gen_point_in_diamond(n)\n",
    "        points_in_diamond.append(point_j)\n",
    "\n",
    "    # Get pairwise distances and averages\n",
    "    pairwise_distances_cube = get_pairwise_distances(points_in_cube)\n",
    "    pairwise_distances_diamond = get_pairwise_distances(points_in_diamond)\n",
    "    largest_avg_pairwise_distance = np.average(pairwise_distances_cube)\n",
    "    smallest_avg_pairwise_distance = np.average(pairwise_distances_diamond)\n",
    "    \n",
    "    k = 1\n",
    "    # Check for contraction\n",
    "    if check_for_contraction(pairwise_distances_cube, pairwise_distances_diamond):\n",
    "            cube_vol = estimate_volume_of_intersection_grid(points_in_cube, n, r)\n",
    "            diamond_vol = estimate_volume_of_intersection_grid(points_in_diamond, n, r)\n",
    "            end = time.time()\n",
    "            return k, points_in_cube, points_in_diamond, pairwise_distances_cube, pairwise_distances_diamond, cube_vol, diamond_vol, start, end\n",
    "\n",
    "    # Continue to generate new points while updated the largest and smallest pairwise distance averages\n",
    "    while True:\n",
    "        if k % 100 == 0:\n",
    "            print(k)\n",
    "        new_points_in_diamond = []\n",
    "        new_points_in_cube = []\n",
    "        for i in range(N):\n",
    "            point_i = gen_point_in_cube(n)\n",
    "            new_points_in_cube.append(point_i)\n",
    "            point_j = gen_point_in_diamond(n)\n",
    "            new_points_in_diamond.append(point_j)\n",
    "\n",
    "        new_pairwise_distances_cube = get_pairwise_distances(new_points_in_cube)\n",
    "        new_pairwise_distances_diamond = get_pairwise_distances(new_points_in_diamond)\n",
    "\n",
    "        # Update largest\n",
    "        cube_average = np.average(new_pairwise_distances_cube)\n",
    "        if cube_average > largest_avg_pairwise_distance:\n",
    "            points_in_cube = new_points_in_cube\n",
    "            largest_avg_pairwise_distance = cube_average\n",
    "            pairwise_distances_cube = new_pairwise_distances_cube\n",
    "\n",
    "        # Update smallest\n",
    "        diamond_average = np.average(new_pairwise_distances_diamond)\n",
    "        if diamond_average < smallest_avg_pairwise_distance:\n",
    "            points_in_diamond = new_points_in_diamond\n",
    "            smallest_avg_pairwise_distance = diamond_average\n",
    "            pairwise_distances_diamond = new_pairwise_distances_diamond\n",
    "\n",
    "        \n",
    "        \n",
    "        k += 1\n",
    "        \n",
    "        # Check for contraction\n",
    "        if check_for_contraction(pairwise_distances_cube, pairwise_distances_diamond):\n",
    "                cube_vol = estimate_volume_of_intersection_grid(points_in_cube, n, r)\n",
    "                diamond_vol = estimate_volume_of_intersection_grid(points_in_diamond, n, r)\n",
    "                end = time.time()\n",
    "                return k, points_in_cube, points_in_diamond, pairwise_distances_cube, pairwise_distances_diamond, cube_vol, diamond_vol, start, end\n",
    "        \n"
   ]
  },
  {
   "cell_type": "code",
   "execution_count": 8,
   "metadata": {},
   "outputs": [
    {
     "name": "stdout",
     "output_type": "stream",
     "text": [
      "Cube Average: 2.873013437480056\n",
      "Diamond Average: 2.665878344811776\n"
     ]
    }
   ],
   "source": [
    "# compute average pairwise distances\n",
    "n = 50\n",
    "N = 1000\n",
    "cube = []\n",
    "for i in range(N):\n",
    "    cube.append(gen_point_in_cube(n))\n",
    "matrix_c = get_pairwise_distances(cube)\n",
    "ave_c = np.mean(matrix_c[matrix_c != 0])\n",
    "print(f\"Cube Average: {ave_c}\")\n",
    "\n",
    "diamond = []\n",
    "for i in range(N):\n",
    "    diamond.append(gen_point_in_diamond(n))\n",
    "matrix_d = get_pairwise_distances(diamond)\n",
    "ave_d = np.mean(matrix_d[matrix_d != 0])\n",
    "print(f\"Diamond Average: {ave_d}\")"
   ]
  },
  {
   "cell_type": "markdown",
   "metadata": {},
   "source": [
    "Monte Carlo Integration:$\\\\$\n",
    "$\\displaystyle \\int_K f(x)dx \\approx \\frac{Vol(K)}{N} \\sum_{i=1}^N f(\\bar{x_i})\\\\$ as $N \\rightarrow \\infty$"
   ]
  },
  {
   "cell_type": "code",
   "execution_count": null,
   "metadata": {},
   "outputs": [
    {
     "name": "stdout",
     "output_type": "stream",
     "text": [
      "        n       L_Q       L_C\n",
      "0    10.0  0.286810  0.280901\n",
      "1    30.0  0.289118  0.271584\n",
      "2    50.0  0.289283  0.267478\n",
      "3    70.0  0.288518  0.265701\n",
      "4    90.0  0.289443  0.263864\n",
      "5   110.0  0.289098  0.264527\n",
      "6   130.0  0.288355  0.263989\n",
      "7   150.0  0.288777  0.263239\n",
      "8   170.0  0.288805  0.263524\n",
      "9   190.0  0.288513       inf\n",
      "10  210.0  0.288077       inf\n",
      "11  230.0  0.288450       inf\n",
      "12  250.0  0.288474       inf\n",
      "13  270.0  0.288375       inf\n",
      "14  290.0  0.288873       inf\n",
      "\\begin{tabular}{rrr}\n",
      "\\toprule\n",
      "n & L_Q & L_C \\\\\n",
      "\\midrule\n",
      "10.000000 & 0.286810 & 0.280901 \\\\\n",
      "30.000000 & 0.289118 & 0.271584 \\\\\n",
      "50.000000 & 0.289283 & 0.267478 \\\\\n",
      "70.000000 & 0.288518 & 0.265701 \\\\\n",
      "90.000000 & 0.289443 & 0.263864 \\\\\n",
      "110.000000 & 0.289098 & 0.264527 \\\\\n",
      "130.000000 & 0.288355 & 0.263989 \\\\\n",
      "150.000000 & 0.288777 & 0.263239 \\\\\n",
      "170.000000 & 0.288805 & 0.263524 \\\\\n",
      "190.000000 & 0.288513 & inf \\\\\n",
      "210.000000 & 0.288077 & inf \\\\\n",
      "230.000000 & 0.288450 & inf \\\\\n",
      "250.000000 & 0.288474 & inf \\\\\n",
      "270.000000 & 0.288375 & inf \\\\\n",
      "290.000000 & 0.288873 & inf \\\\\n",
      "\\bottomrule\n",
      "\\end{tabular}\n",
      "\n"
     ]
    }
   ],
   "source": [
    "# estimate isotropic constants with monte carlo integration\n",
    "iso = pd.DataFrame(columns=['n', 'L_Q', 'L_C'])\n",
    "k = 0\n",
    "for n in range(10, 301, 20):\n",
    "    N = 1000\n",
    "    cube = []\n",
    "    for i in range(N):\n",
    "        pt = gen_point_in_cube(n)\n",
    "        cube.append((np.linalg.norm(pt)**2))\n",
    "    integral_c = np.sum(cube)/N\n",
    "\n",
    "    diamond = []\n",
    "    for i in range(N):\n",
    "        pt = gen_point_in_diamond(n)\n",
    "        diamond.append((np.linalg.norm(pt)**2))\n",
    "    integral_d = np.sum(diamond)/N\n",
    "\n",
    "    iso.loc[k] = [n, (integral_c/n)**(1/2), (integral_d/n)**(1/2)]\n",
    "    k += 1\n",
    "iso_tex = iso.to_latex(index=False)\n",
    "print(iso)\n",
    "print(iso_tex)\n"
   ]
  },
  {
   "cell_type": "code",
   "execution_count": 11,
   "metadata": {},
   "outputs": [
    {
     "name": "stdout",
     "output_type": "stream",
     "text": [
      "1 0.28867513459481287\n",
      "11 0.2779309162627727\n",
      "21 0.27283640029214856\n",
      "31 0.27020040979475785\n",
      "41 0.26855857868061894\n",
      "51 0.2674244928163854\n",
      "61 0.2665878001711976\n",
      "71 0.2659416663455806\n",
      "81 0.265425650745585\n",
      "91 0.26500279981163877\n",
      "101 0.2646491552861521\n",
      "111 0.2643484539169546\n",
      "121 0.2640892398199753\n",
      "131 0.2638631938706026\n",
      "141 0.2636641186436377\n",
      "151 0.26348729598714277\n"
     ]
    }
   ],
   "source": [
    "# Computing c_n in L_{C_n}\n",
    "for n in range(1,152,10):\n",
    "    print(n, (n*beta(3,n))**(1/2) * (gamma(1+n))**(1/n)/2)"
   ]
  },
  {
   "cell_type": "markdown",
   "metadata": {},
   "source": [
    "# Calculate expected volume of intersection"
   ]
  },
  {
   "cell_type": "code",
   "execution_count": 8,
   "metadata": {},
   "outputs": [
    {
     "name": "stdout",
     "output_type": "stream",
     "text": [
      "      Cube Vol  Cube ||.||_2 Average  Diamond Vol  Diamond ||.||_2 Average\n",
      "0   166.004426              1.014679   192.289513                 0.930676\n",
      "1   182.324362              0.976665   179.955638                 0.988419\n",
      "2   194.511666              0.926946   201.491484                 0.833353\n",
      "3   172.077862              0.969361   198.258496                 0.933598\n",
      "4   163.448698              0.972435   190.877714                 0.923955\n",
      "5   182.489465              0.944497   179.367669                 0.946027\n",
      "6   195.375931              0.907466   212.784199                 0.894953\n",
      "7   180.668277              0.971267   184.725096                 0.963838\n",
      "8   177.408333              0.935810   176.010011                 0.958513\n",
      "9   199.080642              0.909778   160.867698                 1.055519\n",
      "10  169.970270              0.988884   214.116817                 0.904959\n",
      "11  175.376554              0.995143   196.631051                 0.911768\n",
      "12  175.120476              0.985896   177.177526                 0.993045\n",
      "13  159.737248              1.018384   206.596202                 0.889698\n",
      "14  181.023754              0.971464   206.552399                 0.893805\n",
      "15  156.467195              0.989830   172.674255                 1.008623\n",
      "16  179.062734              0.979863   215.634755                 0.881516\n",
      "17  214.640767              0.883181   225.879570                 0.849342\n",
      "18  166.892277              1.026742   185.774680                 0.939523\n",
      "19  152.376682              1.062265   184.152289                 0.971695\n",
      "20  189.194673              0.893196   171.351745                 1.015565\n",
      "21  193.248122              0.932236   196.914085                 0.937511\n",
      "22  187.334736              0.967645   162.656877                 1.007858\n",
      "23  157.863833              1.011369   206.624843                 0.899343\n",
      "24  201.729030              0.891486   169.943819                 0.961382\n",
      "25  185.820168              0.931566   192.516951                 0.880949\n",
      "26  177.059595              0.966134   175.684859                 1.009381\n",
      "27  197.043809              0.908829   200.492442                 0.893094\n",
      "28  168.913947              0.971558   187.425711                 0.948413\n",
      "29  186.547969              0.967229   182.086816                 0.945232\n",
      "E: 179.627117\t 190.250507\n"
     ]
    }
   ],
   "source": [
    "n = 6\n",
    "r = n**(1/2)\n",
    "N = 16\n",
    "num_iter = 30\n",
    "\n",
    "table = pd.DataFrame(columns=[\"Cube Vol\", \"Cube pts\", \"Cube ||.||_2 Average\", \"Diamond Vol\", \"Diamond pts\", \"Diamond ||.||_2 Average\"])\n",
    "for i in range(num_iter):\n",
    "    cube = []\n",
    "    diamond = []\n",
    "    for j in range(N):\n",
    "        cube.append(gen_point_in_cube(n))\n",
    "        diamond.append(gen_point_in_diamond(n))\n",
    "\n",
    "    cube_dist = get_pairwise_distances(cube)\n",
    "    cube_ave_dist = np.mean(cube_dist[cube_dist != 0])\n",
    "    diamond_dist = get_pairwise_distances(diamond)\n",
    "    diamond_ave_dist = np.mean(diamond_dist[diamond_dist != 0])\n",
    "\n",
    "    cube_vol = estimate_volume_of_intersection_grid(cube, n, r)\n",
    "    diamond_vol = estimate_volume_of_intersection_grid(diamond, n, r)\n",
    "\n",
    "    table.loc[i] = [cube_vol, cube, cube_ave_dist, diamond_vol, diamond, diamond_ave_dist]\n",
    "\n",
    "print(table[['Cube Vol', \"Cube ||.||_2 Average\", 'Diamond Vol', \"Diamond ||.||_2 Average\"]])\n",
    "print(f\"E: {round(np.mean(table['Cube Vol']),6)}\\t {round(np.mean(table['Diamond Vol']),6)}\")"
   ]
  },
  {
   "cell_type": "code",
   "execution_count": 9,
   "metadata": {},
   "outputs": [
    {
     "name": "stdout",
     "output_type": "stream",
     "text": [
      "\\begin{tabular}{lrrrr}\n",
      "\\toprule\n",
      " & Cube Vol & Cube ||.||_2 Average & Diamond Vol & Diamond ||.||_2 Average \\\\\n",
      "\\midrule\n",
      "0 & 166.004426 & 1.014679 & 192.289513 & 0.930676 \\\\\n",
      "1 & 182.324362 & 0.976665 & 179.955638 & 0.988419 \\\\\n",
      "2 & 194.511666 & 0.926946 & 201.491484 & 0.833353 \\\\\n",
      "3 & 172.077862 & 0.969361 & 198.258496 & 0.933598 \\\\\n",
      "4 & 163.448698 & 0.972435 & 190.877714 & 0.923955 \\\\\n",
      "5 & 182.489465 & 0.944497 & 179.367669 & 0.946027 \\\\\n",
      "6 & 195.375931 & 0.907466 & 212.784199 & 0.894953 \\\\\n",
      "7 & 180.668277 & 0.971267 & 184.725096 & 0.963838 \\\\\n",
      "8 & 177.408333 & 0.935810 & 176.010011 & 0.958513 \\\\\n",
      "9 & 199.080642 & 0.909778 & 160.867698 & 1.055519 \\\\\n",
      "10 & 169.970270 & 0.988884 & 214.116817 & 0.904959 \\\\\n",
      "11 & 175.376554 & 0.995143 & 196.631051 & 0.911768 \\\\\n",
      "12 & 175.120476 & 0.985896 & 177.177526 & 0.993045 \\\\\n",
      "13 & 159.737248 & 1.018384 & 206.596202 & 0.889698 \\\\\n",
      "14 & 181.023754 & 0.971464 & 206.552399 & 0.893805 \\\\\n",
      "15 & 156.467195 & 0.989830 & 172.674255 & 1.008623 \\\\\n",
      "16 & 179.062734 & 0.979863 & 215.634755 & 0.881516 \\\\\n",
      "17 & 214.640767 & 0.883181 & 225.879570 & 0.849342 \\\\\n",
      "18 & 166.892277 & 1.026742 & 185.774680 & 0.939523 \\\\\n",
      "19 & 152.376682 & 1.062265 & 184.152289 & 0.971695 \\\\\n",
      "20 & 189.194673 & 0.893196 & 171.351745 & 1.015565 \\\\\n",
      "21 & 193.248122 & 0.932236 & 196.914085 & 0.937511 \\\\\n",
      "22 & 187.334736 & 0.967645 & 162.656877 & 1.007858 \\\\\n",
      "23 & 157.863833 & 1.011369 & 206.624843 & 0.899343 \\\\\n",
      "24 & 201.729030 & 0.891486 & 169.943819 & 0.961382 \\\\\n",
      "25 & 185.820168 & 0.931566 & 192.516951 & 0.880949 \\\\\n",
      "26 & 177.059595 & 0.966134 & 175.684859 & 1.009381 \\\\\n",
      "27 & 197.043809 & 0.908829 & 200.492442 & 0.893094 \\\\\n",
      "28 & 168.913947 & 0.971558 & 187.425711 & 0.948413 \\\\\n",
      "29 & 186.547969 & 0.967229 & 182.086816 & 0.945232 \\\\\n",
      "\\bottomrule\n",
      "\\end{tabular}\n",
      "\n"
     ]
    }
   ],
   "source": [
    "print(table[['Cube Vol', \"Cube ||.||_2 Average\", 'Diamond Vol', \"Diamond ||.||_2 Average\"]].to_latex(index=True))"
   ]
  },
  {
   "cell_type": "code",
   "execution_count": 14,
   "metadata": {},
   "outputs": [
    {
     "name": "stdout",
     "output_type": "stream",
     "text": [
      "0.9390517052766256\n"
     ]
    }
   ],
   "source": [
    "print(np.mean(table[\"Diamond ||.||_2 Average\"]))"
   ]
  },
  {
   "cell_type": "code",
   "execution_count": 14,
   "metadata": {},
   "outputs": [],
   "source": [
    "for i in range(table.shape[0]):\n",
    "    for j in range(table.shape[0]):\n",
    "        if table.loc[i,'Diamond Vol'] < table.loc[j, 'Cube Vol']:\n",
    "            pwd_cube = get_pairwise_distances(table.loc[j, \"Cube pts\"])\n",
    "            pwd_diamond = get_pairwise_distances(table.loc[i, \"Diamond pts\"])\n",
    "            if check_for_contraction(pwd_cube, pwd_diamond):\n",
    "                print(f\"Contraction found for diamond index {i} and cube index {j}\") "
   ]
  }
 ],
 "metadata": {
  "kernelspec": {
   "display_name": "Python 3",
   "language": "python",
   "name": "python3"
  },
  "language_info": {
   "codemirror_mode": {
    "name": "ipython",
    "version": 3
   },
   "file_extension": ".py",
   "mimetype": "text/x-python",
   "name": "python",
   "nbconvert_exporter": "python",
   "pygments_lexer": "ipython3",
   "version": "3.10.9"
  }
 },
 "nbformat": 4,
 "nbformat_minor": 2
}
