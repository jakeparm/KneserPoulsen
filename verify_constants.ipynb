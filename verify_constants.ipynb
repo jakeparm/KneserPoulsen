{
 "cells": [
  {
   "cell_type": "code",
   "execution_count": null,
   "metadata": {},
   "outputs": [],
   "source": [
    "import numpy as np\n",
    "import pandas as pd\n",
    "from scipy.stats import rv_continuous\n",
    "from scipy.special import gamma, comb, beta\n",
    "from itertools import product\n",
    "import time\n",
    "import matplotlib.pyplot as plt"
   ]
  },
  {
   "cell_type": "code",
   "execution_count": null,
   "metadata": {},
   "outputs": [],
   "source": [
    "# Inverse CDF for e^-|t|\n",
    "def inv_cdf(x):\n",
    "    if x >= 1/2:\n",
    "        return -np.log(1-2*(x-1/2))\n",
    "    else:\n",
    "        return np.log(2*x)\n",
    "\n",
    "# Generate g vector\n",
    "def gen_g(n):\n",
    "    g = []\n",
    "    u = np.random.uniform(0,1,n)\n",
    "    for u_i in u:\n",
    "        g_i = inv_cdf(u_i)\n",
    "        g.append(g_i)\n",
    "    return g\n",
    "\n",
    "# Generate Z\n",
    "def gen_Z():\n",
    "    return np.random.exponential(1, 1)\n",
    "\n",
    "# Generate random point in the diamond\n",
    "def gen_point_in_diamond(n):\n",
    "    g = np.array(gen_g(n))\n",
    "    z = gen_Z()[0]\n",
    "    x = []\n",
    "    for g_i in g:\n",
    "        x_i = g_i / (np.sum(abs(g)) + z)\n",
    "        x.append(x_i)\n",
    "\n",
    "    # Normalize volume\n",
    "    x = np.array(x) * (gamma(1+n))**(1/n)/2\n",
    "\n",
    "    return x\n",
    "\n",
    "# Generate random point in the cube\n",
    "def gen_point_in_cube(dimension, bounds=[-1/2, 1/2]):\n",
    "    x = []\n",
    "    for i in range(dimension):\n",
    "        x_i = np.random.uniform(bounds[0], bounds[1])\n",
    "        x.append(x_i)\n",
    "    return np.array(x)"
   ]
  },
  {
   "cell_type": "code",
   "execution_count": null,
   "metadata": {},
   "outputs": [],
   "source": [
    "def get_pairwise_distances(points):\n",
    "    m = len(points)\n",
    "    pairwise_distances = np.zeros(shape=(m, m))\n",
    "    upper_tri_indices = np.triu_indices(m, k=1)\n",
    "\n",
    "    for i, j in zip(upper_tri_indices[0], upper_tri_indices[1]):\n",
    "        pairwise_distances[i,j] = np.linalg.norm(points[i] - points[j])\n",
    "        \n",
    "    return pairwise_distances"
   ]
  },
  {
   "cell_type": "code",
   "execution_count": null,
   "metadata": {},
   "outputs": [],
   "source": [
    "def check_for_contraction(pairwise_distances1, pairwise_distances2):\n",
    "    upper_triangular = np.triu(np.ones_like(pairwise_distances1, dtype=bool),k=1)\n",
    "    contraction = np.where(upper_triangular, pairwise_distances1 >= pairwise_distances2, True)\n",
    "    if contraction.all():\n",
    "        return True\n",
    "    else:\n",
    "        return False"
   ]
  },
  {
   "cell_type": "code",
   "execution_count": null,
   "metadata": {},
   "outputs": [],
   "source": [
    "def create_grid(min_val, max_val, n0, n):\n",
    "    num_step = int(np.ceil(n0**(1/n)))\n",
    "    steps = np.linspace(min_val, max_val, num_step)\n",
    "    permutation = list(product(steps, repeat=n))\n",
    "    grid = np.array(permutation)\n",
    "    return grid"
   ]
  },
  {
   "cell_type": "code",
   "execution_count": null,
   "metadata": {},
   "outputs": [],
   "source": [
    "def estimate_volume_of_intersection_grid(centers, n, r, n0=100000):\n",
    "    n0 = 20**n\n",
    "    all_points = np.concatenate(centers)\n",
    "    all_points = np.abs(all_points)\n",
    "    extreme_point = np.max(np.ceil(all_points))\n",
    "    bounds = np.array([-(extreme_point+r), extreme_point+r])\n",
    "\n",
    "    \n",
    "    grid = create_grid(bounds[0], bounds[1], n0, n)\n",
    "    \n",
    "    intersection = sum(all(np.linalg.norm(sample - center) <= r for center in centers) for sample in grid)\n",
    "    volume_box = (bounds[1] - bounds[0])**n\n",
    "    volume = (intersection / n0) * volume_box\n",
    "    \n",
    "    return volume"
   ]
  },
  {
   "cell_type": "code",
   "execution_count": null,
   "metadata": {},
   "outputs": [],
   "source": [
    "def find_contraction(p, n, r, N):\n",
    "    # Time how long it takes\n",
    "    start = time.time()\n",
    "\n",
    "    # Generate random points\n",
    "    points_in_cube = []\n",
    "    points_in_diamond = []\n",
    "    for i in range(N):\n",
    "        point_i = gen_point_in_cube(n)\n",
    "        points_in_cube.append(point_i)\n",
    "        point_j = gen_point_in_diamond(n)\n",
    "        points_in_diamond.append(point_j)\n",
    "\n",
    "    # Get pairwise distances and averages\n",
    "    pairwise_distances_cube = get_pairwise_distances(points_in_cube)\n",
    "    pairwise_distances_diamond = get_pairwise_distances(points_in_diamond)\n",
    "    largest_avg_pairwise_distance = np.average(pairwise_distances_cube)\n",
    "    smallest_avg_pairwise_distance = np.average(pairwise_distances_diamond)\n",
    "    \n",
    "    k = 1\n",
    "    # Check for contraction\n",
    "    if check_for_contraction(pairwise_distances_cube, pairwise_distances_diamond):\n",
    "            cube_vol = estimate_volume_of_intersection_grid(points_in_cube, n, r)\n",
    "            diamond_vol = estimate_volume_of_intersection_grid(points_in_diamond, n, r)\n",
    "            end = time.time()\n",
    "            return k, points_in_cube, points_in_diamond, pairwise_distances_cube, pairwise_distances_diamond, cube_vol, diamond_vol, start, end\n",
    "\n",
    "    # Continue to generate new points while updated the largest and smallest pairwise distance averages\n",
    "    while True:\n",
    "        if k % 100 == 0:\n",
    "            print(k)\n",
    "        new_points_in_diamond = []\n",
    "        new_points_in_cube = []\n",
    "        for i in range(N):\n",
    "            point_i = gen_point_in_cube(n)\n",
    "            new_points_in_cube.append(point_i)\n",
    "            point_j = gen_point_in_diamond(n)\n",
    "            new_points_in_diamond.append(point_j)\n",
    "\n",
    "        new_pairwise_distances_cube = get_pairwise_distances(new_points_in_cube)\n",
    "        new_pairwise_distances_diamond = get_pairwise_distances(new_points_in_diamond)\n",
    "\n",
    "        # Update largest\n",
    "        cube_average = np.average(new_pairwise_distances_cube)\n",
    "        if cube_average > largest_avg_pairwise_distance:\n",
    "            points_in_cube = new_points_in_cube\n",
    "            largest_avg_pairwise_distance = cube_average\n",
    "            pairwise_distances_cube = new_pairwise_distances_cube\n",
    "\n",
    "        # Update smallest\n",
    "        diamond_average = np.average(new_pairwise_distances_diamond)\n",
    "        if diamond_average < smallest_avg_pairwise_distance:\n",
    "            points_in_diamond = new_points_in_diamond\n",
    "            smallest_avg_pairwise_distance = diamond_average\n",
    "            pairwise_distances_diamond = new_pairwise_distances_diamond\n",
    "\n",
    "        \n",
    "        \n",
    "        k += 1\n",
    "        \n",
    "        # Check for contraction\n",
    "        if check_for_contraction(pairwise_distances_cube, pairwise_distances_diamond):\n",
    "                cube_vol = estimate_volume_of_intersection_grid(points_in_cube, n, r)\n",
    "                diamond_vol = estimate_volume_of_intersection_grid(points_in_diamond, n, r)\n",
    "                end = time.time()\n",
    "                return k, points_in_cube, points_in_diamond, pairwise_distances_cube, pairwise_distances_diamond, cube_vol, diamond_vol, start, end\n",
    "        \n"
   ]
  },
  {
   "cell_type": "code",
   "execution_count": null,
   "metadata": {},
   "outputs": [],
   "source": [
    "# compute average pairwise distances\n",
    "n = 50\n",
    "N = 1000\n",
    "cube = []\n",
    "for i in range(N):\n",
    "    cube.append(gen_point_in_cube(n))\n",
    "matrix_c = get_pairwise_distances(cube)\n",
    "ave_c = np.mean(matrix_c[matrix_c != 0])\n",
    "print(f\"Cube Average: {ave_c}\")\n",
    "\n",
    "diamond = []\n",
    "for i in range(N):\n",
    "    diamond.append(gen_point_in_diamond(n))\n",
    "matrix_d = get_pairwise_distances(diamond)\n",
    "ave_d = np.mean(matrix_d[matrix_d != 0])\n",
    "print(f\"Diamond Average: {ave_d}\")"
   ]
  },
  {
   "cell_type": "markdown",
   "metadata": {},
   "source": [
    "Monte Carlo Integration:$\\\\$\n",
    "$\\displaystyle \\int_K f(x)dx \\approx \\frac{Vol(K)}{N} \\sum_{i=1}^N f(\\bar{x_i})\\\\$ as $N \\rightarrow \\infty$"
   ]
  },
  {
   "cell_type": "code",
   "execution_count": null,
   "metadata": {},
   "outputs": [],
   "source": [
    "# estimate isotropic constants with monte carlo integration\n",
    "iso = pd.DataFrame(columns=['n', 'L_Q', 'L_C'])\n",
    "k = 0\n",
    "for n in range(10, 301, 20):\n",
    "    N = 1000\n",
    "    cube = []\n",
    "    for i in range(N):\n",
    "        pt = gen_point_in_cube(n)\n",
    "        cube.append((np.linalg.norm(pt)**2))\n",
    "    integral_c = np.sum(cube)/N\n",
    "\n",
    "    diamond = []\n",
    "    for i in range(N):\n",
    "        pt = gen_point_in_diamond(n)\n",
    "        diamond.append((np.linalg.norm(pt)**2))\n",
    "    integral_d = np.sum(diamond)/N\n",
    "\n",
    "    iso.loc[k] = [n, (integral_c/n)**(1/2), (integral_d/n)**(1/2)]\n",
    "    k += 1\n",
    "iso_tex = iso.to_latex(index=False)\n",
    "print(iso)\n",
    "print(iso_tex)\n"
   ]
  },
  {
   "cell_type": "code",
   "execution_count": null,
   "metadata": {},
   "outputs": [],
   "source": [
    "# Computing c_n in L_{C_n}\n",
    "for n in range(1,152,10):\n",
    "    print(n, (n*beta(3,n))**(1/2) * (gamma(1+n))**(1/n)/2)"
   ]
  },
  {
   "cell_type": "markdown",
   "metadata": {},
   "source": [
    "# Calculate expected volume of intersection"
   ]
  },
  {
   "cell_type": "code",
   "execution_count": null,
   "metadata": {},
   "outputs": [],
   "source": [
    "n = 6\n",
    "r = n**(1/2)\n",
    "N = 16\n",
    "num_iter = 30\n",
    "\n",
    "table = pd.DataFrame(columns=[\"Cube Vol\", \"Cube pts\", \"Cube ||.||_2 Average\", \"Diamond Vol\", \"Diamond pts\", \"Diamond ||.||_2 Average\"])\n",
    "for i in range(num_iter):\n",
    "    cube = []\n",
    "    diamond = []\n",
    "    for j in range(N):\n",
    "        cube.append(gen_point_in_cube(n))\n",
    "        diamond.append(gen_point_in_diamond(n))\n",
    "\n",
    "    cube_dist = get_pairwise_distances(cube)\n",
    "    cube_ave_dist = np.mean(cube_dist[cube_dist != 0])\n",
    "    diamond_dist = get_pairwise_distances(diamond)\n",
    "    diamond_ave_dist = np.mean(diamond_dist[diamond_dist != 0])\n",
    "\n",
    "    cube_vol = estimate_volume_of_intersection_grid(cube, n, r)\n",
    "    diamond_vol = estimate_volume_of_intersection_grid(diamond, n, r)\n",
    "\n",
    "    table.loc[i] = [cube_vol, cube, cube_ave_dist, diamond_vol, diamond, diamond_ave_dist]\n",
    "\n",
    "print(table[['Cube Vol', \"Cube ||.||_2 Average\", 'Diamond Vol', \"Diamond ||.||_2 Average\"]])\n",
    "print(f\"E: {round(np.mean(table['Cube Vol']),6)}\\t {round(np.mean(table['Diamond Vol']),6)}\")"
   ]
  },
  {
   "cell_type": "code",
   "execution_count": null,
   "metadata": {},
   "outputs": [],
   "source": [
    "print(table[['Cube Vol', \"Cube ||.||_2 Average\", 'Diamond Vol', \"Diamond ||.||_2 Average\"]].to_latex(index=True))"
   ]
  },
  {
   "cell_type": "code",
   "execution_count": null,
   "metadata": {},
   "outputs": [],
   "source": [
    "print(np.mean(table[\"Diamond ||.||_2 Average\"]))"
   ]
  },
  {
   "cell_type": "code",
   "execution_count": null,
   "metadata": {},
   "outputs": [],
   "source": [
    "for i in range(table.shape[0]):\n",
    "    for j in range(table.shape[0]):\n",
    "        if table.loc[i,'Diamond Vol'] < table.loc[j, 'Cube Vol']:\n",
    "            pwd_cube = get_pairwise_distances(table.loc[j, \"Cube pts\"])\n",
    "            pwd_diamond = get_pairwise_distances(table.loc[i, \"Diamond pts\"])\n",
    "            if check_for_contraction(pwd_cube, pwd_diamond):\n",
    "                print(f\"Contraction found for diamond index {i} and cube index {j}\") "
   ]
  }
 ],
 "metadata": {
  "kernelspec": {
   "display_name": "Python 3",
   "language": "python",
   "name": "python3"
  },
  "language_info": {
   "codemirror_mode": {
    "name": "ipython",
    "version": 3
   },
   "file_extension": ".py",
   "mimetype": "text/x-python",
   "name": "python",
   "nbconvert_exporter": "python",
   "pygments_lexer": "ipython3",
   "version": "3.10.9"
  }
 },
 "nbformat": 4,
 "nbformat_minor": 2
}
